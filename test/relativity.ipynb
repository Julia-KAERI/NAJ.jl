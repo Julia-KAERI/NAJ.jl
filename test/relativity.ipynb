{
 "cells": [
  {
   "cell_type": "code",
   "execution_count": 48,
   "metadata": {},
   "outputs": [],
   "source": [
    "using LinearAlgebra\n",
    "\n",
    "\n",
    "\"\"\"\n",
    "    Vec4\n",
    "\n",
    "Type for 4-vector in special relativity. For space-time, ``(ct, x, y, z)``. `norm(v::Vec4)`\n",
    "is ``(ct)^2-x^2-y^2-z^2``.\n",
    "\"\"\"\n",
    "struct Vec4{T<:Real}\n",
    "    vec::Vector{T}\n",
    "\n",
    "    function Vec4(v0, v1, v2, v3)\n",
    "        v = [v0, v1, v2, v3]\n",
    "        return new{eltype(v)}(v)\n",
    "    end\n",
    "\n",
    "    function Vec4(v::Vector{<:Real})\n",
    "        @assert length(v) == 4\n",
    "        return new{eltype(v)}(v)\n",
    "    end\n",
    "end\n",
    "\n",
    "\"\"\"\n",
    "    LorentzBoost(β) \n",
    "\n",
    "Type for Lorentz boost matrix. β = v/c where c is  the speed of light. \n",
    "\"\"\"\n",
    "struct LorentzBoost{T<:Real}\n",
    "    β::Vector{T}\n",
    "    Λ::Matrix{T}\n",
    "    function LorentzBoost(β::Vector{T}) where T<:Real\n",
    "        @assert norm(β) <= 1\n",
    "        @assert length(β) == 3\n",
    "        Ts=eltype(β)\n",
    "        Λ = zeros(Ts, (4, 4))\n",
    "        γ = 1/√1-dot(β, β)\n",
    "        n = normalize(β)\n",
    "        Λ[1, :] = γ*[1, β[1], β[2], β[3]]\n",
    "        Λ[2, :] = [γ*β[1], 1+(γ-1)*n[1]*n[1], (γ-1)*n[1]*n[2], (γ-1)*n[1]*n[3]]\n",
    "        Λ[3, :] = [γ*β[2], (γ-1)*n[1]*n[2],  1+(γ-1)*n[2]*n[2], (γ-1)*n[2]*n[3] ]\n",
    "        Λ[4, :] = [γ*β[3], (γ-1)*n[1]*n[3],  (γ-1)*n[2]*n[3], 1+(γ-1)*n[3]*n[3] ]\n",
    "        return new{Ts}(β, Λ)\n",
    "    end\n",
    "\n",
    "    function LorentzBoost(Λ::Matrix{T}) where T<:Real\n",
    "        @assert size(Λ) == (4, 4)\n",
    "        \n",
    "end\n",
    "\n",
    "function LinearAlgebra.norm(v::Vec4) \n",
    "    return v.vec[1]^2 - sum(v.vec[2:4] .* v.vec[2:4])\n",
    "end\n",
    "\n",
    "function Base.:+(v1::Vec4, v2::Vec4)\n",
    "    return Vec4(v1.vec .+ v2.vec)\n",
    "end\n",
    "\n",
    "function Base.:-(v1::Vec4, v2::Vec4)\n",
    "    return Vec4(v1.vec .- v2.vec)\n",
    "end\n",
    "\n",
    "function Base.:*(L::LorentzBoost, v::Vec4)\n",
    "    return Vec4(dot(L.Λ, [v.vec;]))\n",
    "end\n",
    "\n",
    "function Base.:*(L1::LorentzBoost, L2::LorentzBoost)\n",
    "    return \n",
    "end\n",
    "\n"
   ]
  },
  {
   "cell_type": "code",
   "execution_count": 49,
   "metadata": {},
   "outputs": [
    {
     "data": {
      "text/plain": [
       "LorentzBoost{Float64}([0.4, 0.0, 0.3], [0.75 0.30000000000000004 0.0 0.22499999999999998; 0.30000000000000004 0.84 -0.0 -0.12; 0.0 -0.0 1.0 -0.0; 0.22499999999999998 -0.12 -0.0 0.91])"
      ]
     },
     "metadata": {},
     "output_type": "display_data"
    }
   ],
   "source": [
    "LorentzBoost([0.4, 0.0, 0.3])"
   ]
  },
  {
   "cell_type": "code",
   "execution_count": 50,
   "metadata": {},
   "outputs": [
    {
     "data": {
      "text/plain": [
       "Vec4{Int64}([0, 2, 4, 1])"
      ]
     },
     "metadata": {},
     "output_type": "display_data"
    }
   ],
   "source": [
    "β = [0.4, 0.1, 0.5]\n",
    "L = LorentzBoost(β)\n",
    "x=Vec4(0, 2, 4, 1)"
   ]
  },
  {
   "cell_type": "code",
   "execution_count": 52,
   "metadata": {},
   "outputs": [
    {
     "ename": "DimensionMismatch",
     "evalue": "DimensionMismatch: first array has length 16 which does not match the length of the second, 4.",
     "output_type": "error",
     "traceback": [
      "DimensionMismatch: first array has length 16 which does not match the length of the second, 4.\n",
      "\n",
      "Stacktrace:\n",
      " [1] dot(x::Matrix{Float64}, y::Vector{Int64})\n",
      "   @ LinearAlgebra /Applications/Julia-1.10.app/Contents/Resources/julia/share/julia/stdlib/v1.10/LinearAlgebra/src/generic.jl:881\n",
      " [2] top-level scope\n",
      "   @ ~/development/Projects/NAJ.jl/test/relativity.ipynb:1"
     ]
    }
   ],
   "source": [
    "dot(L.Λ, [x.vec;])"
   ]
  },
  {
   "cell_type": "code",
   "execution_count": 55,
   "metadata": {},
   "outputs": [
    {
     "data": {
      "text/plain": [
       "4-element Vector{Float64}:\n",
       " 0.986\n",
       " 1.32\n",
       " 3.83\n",
       " 0.14999999999999997"
      ]
     },
     "metadata": {},
     "output_type": "display_data"
    }
   ],
   "source": [
    "L.Λ *[x.vec;]"
   ]
  },
  {
   "cell_type": "code",
   "execution_count": null,
   "metadata": {},
   "outputs": [],
   "source": [
    "[x.]"
   ]
  }
 ],
 "metadata": {
  "kernelspec": {
   "display_name": "Julia 1.10.2",
   "language": "julia",
   "name": "julia-1.10"
  },
  "language_info": {
   "file_extension": ".jl",
   "mimetype": "application/julia",
   "name": "julia",
   "version": "1.10.2"
  }
 },
 "nbformat": 4,
 "nbformat_minor": 2
}
