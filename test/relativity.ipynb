{
 "cells": [
  {
   "cell_type": "code",
   "execution_count": 22,
   "metadata": {},
   "outputs": [
    {
     "ename": "Base.Meta.ParseError",
     "evalue": "ParseError:\n# Error @ /Users/jiyong/development/Projects/NAJ.jl/test/relativity.ipynb:7:59\n\nType for 4-vector in special relativity. For space-time, $(ct, x, y, z)$. `norm(v::Vec4)`\n#                                                         └───────────┘ ── invalid interpolation syntax",
     "output_type": "error",
     "traceback": [
      "ParseError:\n",
      "# Error @ /Users/jiyong/development/Projects/NAJ.jl/test/relativity.ipynb:7:59\n",
      "\n",
      "Type for 4-vector in special relativity. For space-time, $(ct, x, y, z)$. `norm(v::Vec4)`\n",
      "#                                                         └───────────┘ ── invalid interpolation syntax\n",
      "\n",
      "Stacktrace:\n",
      " [1] top-level scope\n",
      "   @ ~/development/Projects/NAJ.jl/test/relativity.ipynb:7"
     ]
    }
   ],
   "source": [
    "using LinearAlgebra\n",
    "\n",
    "\n",
    "\"\"\"\n",
    "    Vec4\n",
    "\n",
    "Type for 4-vector in special relativity. For space-time, ``(ct, x, y, z)``. `norm(v::Vec4)`\n",
    "is ``(ct)^2-x^2-y^2-z^2``.\n",
    "\"\"\"\n",
    "struct Vec4{T<:Real}\n",
    "    vec::Vector{T}\n",
    "\n",
    "    function Vec4(v0, v1, v2, v3)\n",
    "        v = [v0, v1, v2, v3]\n",
    "        return new{eltype(v)}(v)\n",
    "    end\n",
    "\n",
    "    function Vec4(v::Vector{<:Real})\n",
    "        @assert length(v) == 4\n",
    "        return new{eltype(v)}(v)\n",
    "    end\n",
    "end\n",
    "\n",
    "\"\"\"\n",
    "    LorentzBoost(β) \n",
    "\n",
    "Type for Lorentz boost matrix. β = v/c where c is  the speed of light. \n",
    "\"\"\"\n",
    "struct LorentzBoost{T<:Real}\n",
    "    β::Vector{T}\n",
    "    Λ::Matrix{T}\n",
    "    function LorentzBoost(β::Vector{T}) where T<:Real\n",
    "        @assert norm(β) <= 1\n",
    "        @assert length(β) == 3\n",
    "        Ts=eltype(β)\n",
    "        Λ = zeros(Ts, (4, 4))\n",
    "        γ = 1/√1-dot(β, β)\n",
    "        n = normalize(β)\n",
    "        Λ[1, :] = γ*[1, β[1], β[2], β[3]]\n",
    "        Λ[2, :] = [γ*β[1], 1+(γ-1)*n[1]*n[1], (γ-1)*n[1]*n[2], (γ-1)*n[1]*n[3]]\n",
    "        Λ[3, :] = [γ*β[2], (γ-1)*n[1]*n[2],  1+(γ-1)*n[2]*n[2], (γ-1)*n[2]*n[3] ]\n",
    "        Λ[4, :] = [γ*β[3], (γ-1)*n[1]*n[3],  (γ-1)*n[2]*n[3], 1+(γ-1)*n[3]*n[3] ]\n",
    "        return new{Ts}(β, Λ)\n",
    "    end\n",
    "end\n",
    "\n",
    "function LinearAlgebra.norm(v::Vec4) \n",
    "    return v.vec[1]^2 - sum(v.vec[2:4] .* v.vec[2:4])\n",
    "end\n",
    "\n",
    "function Base.:+(v1::Vec4, v2::Vec4)\n",
    "    return Vec4(v1.vec .+ v2.vec)\n",
    "end\n",
    "\n",
    "function Base.:-(v1::Vec4, v2::Vec4)\n",
    "    return Vec4(v1.vec .- v2.vec)\n",
    "end\n",
    "\n",
    "function Base.:*(L:LorentzBoost, v::Vec4)\n",
    "    return Vec4(L.Λ * v)\n",
    "end\n",
    "\n"
   ]
  },
  {
   "cell_type": "code",
   "execution_count": 18,
   "metadata": {},
   "outputs": [
    {
     "data": {
      "text/plain": [
       "LorentzBoost{Float64}([0.4, 0.0, 0.3], [0.75 0.30000000000000004 0.0 0.22499999999999998; 0.30000000000000004 0.84 -0.0 -0.12; 0.0 -0.0 1.0 -0.0; 0.22499999999999998 -0.12 -0.0 0.91])"
      ]
     },
     "metadata": {},
     "output_type": "display_data"
    }
   ],
   "source": [
    "LorentzBoost([0.4, 0.0, 0.3])"
   ]
  },
  {
   "cell_type": "code",
   "execution_count": 19,
   "metadata": {},
   "outputs": [
    {
     "data": {
      "text/plain": [
       "3.872983346207417"
      ]
     },
     "metadata": {},
     "output_type": "display_data"
    }
   ],
   "source": [
    "x = [2,-3,1,-1]\n",
    "twonorm = norm(x)   "
   ]
  },
  {
   "cell_type": "code",
   "execution_count": 20,
   "metadata": {},
   "outputs": [
    {
     "data": {
      "text/plain": [
       "Vec4{Int64}([4, 1, 1, 3])"
      ]
     },
     "metadata": {},
     "output_type": "display_data"
    }
   ],
   "source": [
    "x=Vec4([4, 1, 1, 3])"
   ]
  },
  {
   "cell_type": "code",
   "execution_count": 21,
   "metadata": {},
   "outputs": [
    {
     "data": {
      "text/plain": [
       "5"
      ]
     },
     "metadata": {},
     "output_type": "display_data"
    }
   ],
   "source": [
    "norm(x)"
   ]
  },
  {
   "cell_type": "code",
   "execution_count": null,
   "metadata": {},
   "outputs": [],
   "source": []
  }
 ],
 "metadata": {
  "kernelspec": {
   "display_name": "Julia 1.10.2",
   "language": "julia",
   "name": "julia-1.10"
  },
  "language_info": {
   "file_extension": ".jl",
   "mimetype": "application/julia",
   "name": "julia",
   "version": "1.10.2"
  }
 },
 "nbformat": 4,
 "nbformat_minor": 2
}
