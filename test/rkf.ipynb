{
 "cells": [
  {
   "cell_type": "code",
   "execution_count": 2,
   "metadata": {},
   "outputs": [
    {
     "name": "stderr",
     "output_type": "stream",
     "text": [
      "\u001b[32m\u001b[1m  Activating\u001b[22m\u001b[39m project at `~/development/Projects/NAJ.jl`\n"
     ]
    }
   ],
   "source": [
    "using BenchmarkTools, Plots, Pkg\n",
    "cd(\"/Users/jiyong/development/Projects\")\n",
    "Pkg.activate(\"NAJ.jl\")\n",
    "using NAJ"
   ]
  },
  {
   "cell_type": "code",
   "execution_count": null,
   "metadata": {},
   "outputs": [],
   "source": [
    "function ode_rkf(\n",
    "    fp, \n",
    "    t1::Real, \n",
    "    x1::Vector{<:Real}, \n",
    "    Npoints::Integer, \n",
    "    h = 1.0e-6) \n",
    "    tn = t1 .+ collect(0:1:(Npoints-1)) * h\n",
    "    xn = zeros((length(x1), length(tn)))\n",
    "    xn[:,1] = x1\n",
    "    for i in 1:(Npoints-1)\n",
    "        k1 = fp(tn[i], xn[:, i])\n",
    "        k2 = fp(tn[i] + h/2, xn[:, i] .+ k1.*(h/2))\n",
    "        k3 = fp(tn[i] + h/2, xn[:, i] .+ k2 .*(h/2))\n",
    "        k4 = fp(tn[i] + h, xn[:, i] .+ k3 .* h)\n",
    "        xn[:, i+1] = xn[:, i] .+ (k1 .+ (2.0 .* k2) .+ (2.0 .* k3) .+ k4).*(h/6)\n",
    "    end\n",
    "    return tn, xn\n",
    "end"
   ]
  }
 ],
 "metadata": {
  "kernelspec": {
   "display_name": "Julia 1.10.2",
   "language": "julia",
   "name": "julia-1.10"
  },
  "language_info": {
   "file_extension": ".jl",
   "mimetype": "application/julia",
   "name": "julia",
   "version": "1.10.2"
  }
 },
 "nbformat": 4,
 "nbformat_minor": 2
}
