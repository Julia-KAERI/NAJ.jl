{
 "cells": [
  {
   "cell_type": "code",
   "execution_count": 1,
   "metadata": {},
   "outputs": [
    {
     "name": "stderr",
     "output_type": "stream",
     "text": [
      "\u001b[32m\u001b[1m  Activating\u001b[22m\u001b[39m project at `~/development/Projects/NAJ.jl`\n"
     ]
    }
   ],
   "source": [
    "using Pkg, Plots\n",
    "cd(\"/Users/jiyong/development/Projects\")\n",
    "Pkg.activate(\"NAJ.jl\")\n",
    "using NAJ"
   ]
  },
  {
   "cell_type": "code",
   "execution_count": 10,
   "metadata": {},
   "outputs": [
    {
     "data": {
      "text/plain": [
       "Chevyshev Polynomnial{Int64}( -1 T_1(x) + 2 T_2(x) + 1 T_3(x))\n"
      ]
     },
     "metadata": {},
     "output_type": "display_data"
    }
   ],
   "source": [
    "l1 = LegendrePolynomial([2,1,-1,1])\n",
    "l2 = LegendrePolynomial([-2, 1, 2])\n",
    "p1 = ChevyshevPolynomial([0,0,0,1])\n",
    "p2 = ChevyshevPolynomial([0,-1,2,1])\n"
   ]
  },
  {
   "cell_type": "code",
   "execution_count": 15,
   "metadata": {},
   "outputs": [
    {
     "data": {
      "text/plain": [
       "Simple Polynomial{Float64}( -3.0 x^1 + 4.0 x^3)\n"
      ]
     },
     "metadata": {},
     "output_type": "display_data"
    }
   ],
   "source": [
    "SimplePolynomial(p1)"
   ]
  },
  {
   "cell_type": "code",
   "execution_count": null,
   "metadata": {},
   "outputs": [],
   "source": [
    "# function Base.show(io::IO, p::AbstractBasisPolynomial{T, X}) where {T, X}\n",
    "#     result = \"\"\n",
    "#     n = length(p)\n",
    "#     if n == 1 && iszero(p.coeffs[1])\n",
    "#         result = \"0\"\n",
    "#     else \n",
    "#         for (i, v) in enumerate(p.coeffs[end:-1:1])\n",
    "#             vp = string(abs(v))\n",
    "#             if v > zero(T) && i>1\n",
    "#                 result *= \" + \" * vp * \" \" * base_string(base_type(p))\n",
    "#             elseif v< zero(T) && i > 1\n",
    "#                 result *= \" - \" * vp * \" \" * base_string(base_type(p))\n",
    "#             elseif v > zero(T)\n",
    "#                 result *= vp * \" \" * base_string(base_type(p))\n",
    "#             elseif v<zero(T)\n",
    "#                 result *= \" -\"*vp * \" \" * base_string(base_type(p))\n",
    "#             end\n",
    "\n",
    "#             if i == n\n",
    "#                 if !iszero(v)\n",
    "#                     result = result[1:end-4]\n",
    "#                 else \n",
    "#                     result = result\n",
    "#                 end\n",
    "#             end\n",
    "#         end\n",
    "#     end\n",
    "#     println(io, poly_string(p)*\"{$(eltype(p.coeffs))}($(result[1:end]))\")\n",
    "# end"
   ]
  },
  {
   "cell_type": "code",
   "execution_count": null,
   "metadata": {},
   "outputs": [],
   "source": [
    "SimplePolynomial([0, -1])"
   ]
  },
  {
   "cell_type": "code",
   "execution_count": null,
   "metadata": {},
   "outputs": [],
   "source": []
  }
 ],
 "metadata": {
  "kernelspec": {
   "display_name": "Julia 1.10.2",
   "language": "julia",
   "name": "julia-1.10"
  },
  "language_info": {
   "file_extension": ".jl",
   "mimetype": "application/julia",
   "name": "julia",
   "version": "1.10.2"
  }
 },
 "nbformat": 4,
 "nbformat_minor": 2
}
