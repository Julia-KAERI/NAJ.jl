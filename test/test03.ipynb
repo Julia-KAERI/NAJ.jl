{
 "cells": [
  {
   "cell_type": "code",
   "execution_count": 1,
   "metadata": {},
   "outputs": [
    {
     "name": "stderr",
     "output_type": "stream",
     "text": [
      "\u001b[32m\u001b[1m  Activating\u001b[22m\u001b[39m project at `~/development/Projects/NAJ.jl`\n"
     ]
    }
   ],
   "source": [
    "using Pkg, CairoMakie\n",
    "cd(\"/Users/jiyong/development/Projects\")\n",
    "Pkg.activate(\"NAJ.jl\")\n",
    "using NAJ"
   ]
  },
  {
   "cell_type": "code",
   "execution_count": 2,
   "metadata": {},
   "outputs": [
    {
     "data": {
      "text/plain": [
       "NAJ.LogSpacingRange{Float64}(0.0, 10.0, 10.0, 100)"
      ]
     },
     "metadata": {},
     "output_type": "display_data"
    }
   ],
   "source": [
    "p = logspace(0.0, 10.0, 100)"
   ]
  },
  {
   "cell_type": "code",
   "execution_count": 4,
   "metadata": {},
   "outputs": [
    {
     "ename": "ErrorException",
     "evalue": "No recipe for plot",
     "output_type": "error",
     "traceback": [
      "No recipe for plot\n",
      "\n",
      "Stacktrace:\n",
      " [1] error(s::String)\n",
      "   @ Base ./error.jl:35\n",
      " [2] plot!\n",
      "   @ ~/.julia/packages/Makie/ND0gA/src/interfaces.jl:232 [inlined]\n",
      " [3] connect_plot!(parent::Scene, plot::Plot{MakieCore.plot, Tuple{NAJ.LogSpacingRange{Float64}}})\n",
      "   @ Makie ~/.julia/packages/Makie/ND0gA/src/interfaces.jl:260\n",
      " [4] plot!\n",
      "   @ ~/.julia/packages/Makie/ND0gA/src/interfaces.jl:265 [inlined]\n",
      " [5] plot!(ax::Axis, plot::Plot{MakieCore.plot, Tuple{NAJ.LogSpacingRange{Float64}}})\n",
      "   @ Makie ~/.julia/packages/Makie/ND0gA/src/figureplotting.jl:316\n",
      " [6] plot!(fa::Makie.FigureAxis, plot::Plot{MakieCore.plot, Tuple{NAJ.LogSpacingRange{Float64}}})\n",
      "   @ Makie ~/.julia/packages/Makie/ND0gA/src/figureplotting.jl:313\n",
      " [7] _create_plot(F::Function, attributes::Dict{Symbol, Any}, args::NAJ.LogSpacingRange{Float64})\n",
      "   @ Makie ~/.julia/packages/Makie/ND0gA/src/figureplotting.jl:250\n",
      " [8] plot(args::NAJ.LogSpacingRange{Float64})\n",
      "   @ MakieCore ~/.julia/packages/MakieCore/UAwps/src/recipes.jl:39\n",
      " [9] top-level scope\n",
      "   @ ~/development/Projects/NAJ.jl/test/test03.ipynb:1"
     ]
    }
   ],
   "source": [
    "plot(p)"
   ]
  },
  {
   "cell_type": "code",
   "execution_count": null,
   "metadata": {},
   "outputs": [],
   "source": []
  }
 ],
 "metadata": {
  "kernelspec": {
   "display_name": "Julia 1.10.2",
   "language": "julia",
   "name": "julia-1.10"
  },
  "language_info": {
   "file_extension": ".jl",
   "mimetype": "application/julia",
   "name": "julia",
   "version": "1.10.2"
  }
 },
 "nbformat": 4,
 "nbformat_minor": 2
}
