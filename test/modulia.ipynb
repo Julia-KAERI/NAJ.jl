{
 "cells": [
  {
   "cell_type": "code",
   "execution_count": 3,
   "metadata": {},
   "outputs": [],
   "source": [
    "abstract type AbstractModular{N} end\n",
    "abstract type AbstractPrimeModular{N} <: AbstractModular{N} end"
   ]
  },
  {
   "cell_type": "code",
   "execution_count": 56,
   "metadata": {},
   "outputs": [],
   "source": [
    "const max_modular = 100_000\n",
    "\n",
    "function isprime(v::Integer)\n",
    "    @assert 1<v<max_modular \n",
    "    k = floor(Int64, √v)\n",
    "    result = true\n",
    "    for x in 2:k\n",
    "        if v % x == 0\n",
    "            result = false\n",
    "            break\n",
    "        end\n",
    "    end\n",
    "    return result\n",
    "end\n",
    "\n",
    "struct PrimeMod{N} <: AbstractPrimeModular{N}\n",
    "    value::Int64\n",
    "    \n",
    "    function PrimeMod{N}(x::T) where {N, T<:Integer}\n",
    "        @assert N > 1 \"Modulos must be larger than 1\"\n",
    "        @assert isprime(N) \"Must be a prime number\"\n",
    "        r = (x ≥ 0) ? x%N : (x%N)+N \n",
    "        return new{N}(r)\n",
    "    end\n",
    "end\n",
    "\n",
    "struct Mod{N} <: AbstractModular{N}\n",
    "    val::Int64\n",
    "\n",
    "    function Mod{N}(x::T) where {N, T<:Integer}\n",
    "        @assert N > 1 \"Modulos must be larger than 1\"\n",
    "        r = (x ≥ 0) ? x%N : (x%N)+N \n",
    "        if isprime(N)\n",
    "            return PrimeMod{N}(r)\n",
    "        else \n",
    "            return new{N}(r)\n",
    "        end\n",
    "    end\n",
    "end\n",
    "\n",
    "function Base.show(io::IO, x::AbstractModular{N}) where N \n",
    "    println(io, \"$(x.value) ($N)\")\n",
    "end\n",
    "\n",
    "Base.zero(a::AbstractModular{N}) where N = Mod{N}(0)\n",
    "Base.one(a::AbstractModular{N}) where N = Mod{N}(1)\n",
    "Base.:-(a::AbstractModular{N}) where N = Mod{N}(-a.value)\n",
    "\n",
    "function Base.:+(a::AbstractModular{N}, b::AbstractModular{N}) where N \n",
    "    return Mod{N}(a.value+b.value)\n",
    "end\n",
    "\n",
    "function Base.:-(a::AbstractModular{N}, b::AbstractModular{N}) where N \n",
    "    return Mod{N}(a.value-b.value)\n",
    "end\n",
    "\n",
    "function Base.:*(a::AbstractPrimeModular{N}, b::AbstractPrimeModular{N}) where N \n",
    "    return Mod{N}(a.value*b.value)\n",
    "end\n",
    "\n",
    "function Base.:^(a::AbstractModular{N}, n::Integer) where N\n",
    "    return Mod{N}(a.value^n)\n",
    "end\n",
    "\n",
    "function minv(a::AbstractPrimeModular{N}) where N\n",
    "    return Mod{N}(a.value^(N-2))\n",
    "end\n",
    "function Base.:/(a::AbstractPrimeModular{N}, b::AbstractPrimeModular{N}) where N\n",
    "    if b==zero(b)\n",
    "    return a*minv(b)\n",
    "end\n",
    "\n"
   ]
  },
  {
   "cell_type": "code",
   "execution_count": 57,
   "metadata": {},
   "outputs": [
    {
     "data": {
      "text/plain": [
       "1 (7)\n"
      ]
     },
     "metadata": {},
     "output_type": "display_data"
    }
   ],
   "source": [
    "Mod{7}(-3) * Mod{7}(2)"
   ]
  },
  {
   "cell_type": "code",
   "execution_count": 59,
   "metadata": {},
   "outputs": [
    {
     "data": {
      "text/plain": [
       "8 (11)\n"
      ]
     },
     "metadata": {},
     "output_type": "display_data"
    }
   ],
   "source": [
    "Mod{11}(2) / Mod{11}(3)"
   ]
  },
  {
   "cell_type": "code",
   "execution_count": 60,
   "metadata": {},
   "outputs": [
    {
     "data": {
      "text/plain": [
       "4 (11)\n"
      ]
     },
     "metadata": {},
     "output_type": "display_data"
    }
   ],
   "source": [
    "a=Mod{11}(3)\n",
    "minv(a)"
   ]
  },
  {
   "cell_type": "code",
   "execution_count": 50,
   "metadata": {},
   "outputs": [
    {
     "data": {
      "text/plain": [
       "4"
      ]
     },
     "metadata": {},
     "output_type": "display_data"
    }
   ],
   "source": [
    "(2^5)%7"
   ]
  },
  {
   "cell_type": "code",
   "execution_count": 6,
   "metadata": {},
   "outputs": [
    {
     "data": {
      "text/plain": [
       "false"
      ]
     },
     "metadata": {},
     "output_type": "display_data"
    }
   ],
   "source": [
    "isprime(117)"
   ]
  },
  {
   "cell_type": "code",
   "execution_count": null,
   "metadata": {},
   "outputs": [],
   "source": []
  }
 ],
 "metadata": {
  "kernelspec": {
   "display_name": "Julia 1.10.2",
   "language": "julia",
   "name": "julia-1.10"
  },
  "language_info": {
   "file_extension": ".jl",
   "mimetype": "application/julia",
   "name": "julia",
   "version": "1.10.2"
  }
 },
 "nbformat": 4,
 "nbformat_minor": 2
}
